{
 "cells": [
  {
   "cell_type": "code",
   "execution_count": 1,
   "metadata": {
    "cellId": "1tp1r97tgeyo3ipq59xqn"
   },
   "outputs": [],
   "source": [
    "%matplotlib inline"
   ]
  },
  {
   "cell_type": "code",
   "execution_count": 2,
   "metadata": {},
   "outputs": [],
   "source": [
    "%load_ext autoreload\n",
    "%autoreload 2"
   ]
  },
  {
   "cell_type": "code",
   "execution_count": 3,
   "metadata": {
    "cellId": "spet5x42vk98k659g6rly9"
   },
   "outputs": [],
   "source": [
    "from functools import partial\n",
    "import numpy as np\n",
    "import jax\n",
    "import jax.numpy as jnp\n",
    "import matplotlib.pyplot as plt\n",
    "from moviepy.editor import ImageSequenceClip\n",
    "import sys\n",
    "import pendulum"
   ]
  },
  {
   "cell_type": "markdown",
   "metadata": {
    "cellId": "qc4aqi5rtw90rzzrndd2p6"
   },
   "source": [
    "# Visualisation of a double pendulum"
   ]
  },
  {
   "cell_type": "code",
   "execution_count": 4,
   "metadata": {
    "cellId": "1idls65sw1uzybnyx6tml"
   },
   "outputs": [],
   "source": [
    "x0 = np.array([3*np.pi/7, 3*np.pi/4, 0, 0], dtype=np.float32)\n",
    "t_demo = np.linspace(0, 100, num=1000, dtype=np.float32)\n",
    "demo_trajectory = pendulum.solve_analytical(x0, t_demo, g=9.8)"
   ]
  },
  {
   "cell_type": "code",
   "execution_count": 5,
   "metadata": {
    "cellId": "akhdrskt1aj7gir3bx6x9"
   },
   "outputs": [],
   "source": [
    "L1, L2 = 1, 1\n",
    "theta1, theta2 = demo_trajectory[:, 0], demo_trajectory[:, 1]\n",
    "cart_coords = pendulum.radial2cartesian(theta1, theta2, L1, L2)"
   ]
  },
  {
   "cell_type": "code",
   "execution_count": 6,
   "metadata": {
    "cellId": "pbxp8orhc6jfm4jjlwtv5k"
   },
   "outputs": [
    {
     "name": "stderr",
     "output_type": "stream",
     "text": [
      "                                                  "
     ]
    },
    {
     "name": "stdout",
     "output_type": "stream",
     "text": [
      "0/1\n",
      "Moviepy - Building video __temp__.mp4.\n",
      "Moviepy - Writing video __temp__.mp4\n",
      "\n",
      "Moviepy - Done !\n",
      "Moviepy - video ready __temp__.mp4\n"
     ]
    },
    {
     "name": "stderr",
     "output_type": "stream",
     "text": [
      "\r"
     ]
    },
    {
     "data": {
      "text/html": [
       "<div align=middle><video src='data:video/mp4;base64,AAAAIGZ0eXBpc29tAAACAGlzb21pc28yYXZjMW1wNDEAAAAIZnJlZQAAEWVtZGF0AAACVQYF//9R3EXpvebZSLeWLNgg2SPu73gyNjQgLSBjb3JlIDE1OSByMjk5MSAxNzcxYjU1IC0gSC4yNjQvTVBFRy00IEFWQyBjb2RlYyAtIENvcHlsZWZ0IDIwMDMtMjAxOSAtIGh0dHA6Ly93d3cudmlkZW9sYW4ub3JnL3gyNjQuaHRtbCAtIG9wdGlvbnM6IGNhYmFjPTAgcmVmPTEgZGVibG9jaz0wOjA6MCBhbmFseXNlPTA6MCBtZT1kaWEgc3VibWU9MCBwc3k9MSBwc3lfcmQ9MS4wMDowLjAwIG1peGVkX3JlZj0wIG1lX3JhbmdlPTE2IGNocm9tYV9tZT0xIHRyZWxsaXM9MCA4eDhkY3Q9MCBjcW09MCBkZWFkem9uZT0yMSwxMSBmYXN0X3Bza2lwPTEgY2hyb21hX3FwX29mZnNldD02IHRocmVhZHM9MTQgbG9va2FoZWFkX3RocmVhZHM9MiBzbGljZWRfdGhyZWFkcz0wIG5yPTAgZGVjaW1hdGU9MSBpbnRlcmxhY2VkPTAgYmx1cmF5X2NvbXBhdD0wIGNvbnN0cmFpbmVkX2ludHJhPTAgYmZyYW1lcz0wIHdlaWdodHA9MCBrZXlpbnQ9MjUwIGtleWludF9taW49MjUgc2NlbmVjdXQ9MCBpbnRyYV9yZWZyZXNoPTAgcmM9Y3JmIG1idHJlZT0wIGNyZj0yMy4wIHFjb21wPTAuNjAgcXBtaW49MCBxcG1heD02OSBxcHN0ZXA9NCBpcF9yYXRpbz0xLjQwIGFxPTAAgAAADwBliIQ6JFAAEezk8nk8nk8nk8nk8nk8nk8nk8nk8nk8nk8nk8nk8nk8nk8nk8nk8nk8nk9evXr169evXr169evXr169evXr169evXr169evXr169evXr169evXr169evXr169evXr169evXr169evXr169evXr169eOgAIEYAFADtpHU9gCVWZc1yBnAB6CDsHvqEDIEFXq9LAAEAsAAQRmPAB6CDsHvqEDIEFXq9PAAEGQoAFgGCm6/QVjHha4raP++QAAIGwAAgDAuWAQwwzRzyhAwBFV6vf/////+OgKjAAEAgUQRICojw2UDPFf/4PIAw5pgDAgQm2rzwABBkLgAOwmKKsAah621RJ1cQAAIEoACBEsPEAQYwwBoRITbV/yAABAAAAUAy5hwABAAAAUAy5/////+5iDv379+/fv379+/fv379+/fv379+/fv378fAASaAAEAf74AQU2VmUad/gA9hhmgIeVImBVX6vvkAACAWAAIA4AfchwABALAAEAcAPuf////+vXr169evXqZfXr169evXr169evXr169evXr169evXr169evXr169evXr169evXr169evXr169evXr169evXr169evXr169evXr169evXr169evXr169evXr169evXr169evXr169evXr168dAAcDAKEkbrLkQkZKToWJQxuABYBlBNcKzlXx/4LNH/YEgEUFxwvOFfHvgs1f8HiAIMaaA0IEBtqngACDIUACwCICY4XjKnj3wXaP+AAAEGQiwABALAAEEZigAAQAQGHkHs4wRAj/+ugFAIEQL9Q0pl/57wbVf////+OgAIBsAAIAwBRi3zBgBU7UEREdjXBYBkBNBL5p8h0CH+/r/gSAQLj8BYpRrc3u/ob6ACKCYCHjTxDgEf9/XwAHDDIx4kJ5Uz2VMkGYYf/////169evXr169evXr169evXr169evXr169evXr169evXr347bpnR2P7HY//////+vXr169evXr169evXr169evXr169evXr169evXr169evXr169evXr169evXr169evXr169evXr169evXr169evXr169evXr169evXr169evXr169evXr169evXr169evXr146AAgB8MDZJnEh1Y8WrQ62Fv/gAWAZQTXCs5V8f+CzR/08AAQZCAkAiguOF5wr498Fmr/gNAIFNx2IQ8D/ijT9gAABBkIsAAQCwABBGY/////8dAAQABYBQDpycmcC61Z6TLSf/AVABAoO+mbxk35rwa/DwAIFx+AZhXwuZNKN34ADhhkY8SE8qZ7KmSDMP/////169evXr169evXr169evXr169evXr169evXr169evXrx8ABAgEUoYkO5eVeZPXuT2ABYBEBMcLxlTx74LtH/foAAEAEBh5B7OMEQI//roCWAAIBhRQhJR5XJEwEfn/7////////HfAAGAo1111110Cwmu3brMzcAgVGvFKKYc534C4bhkAACARQABBFuYzCWEOAAIBFAAEEW5hwABAIoAAgi3MsJYf/////Xr169evXr169evXr169evXr169evXr169evXr169evXr69evXr169evXr169evXr169evXr169evXr169evXr169evXr169evXr169evXr169evXr169evXr169evXr169eOgAJgACAPuAJYMkVkUmdOSO//AAsAygmuFZyr4/8Fmj/sCQCKC44XnCvj3wWav+AVhEFe1BhiHi/qKf////+OgAIAEDHnHnHHnHnnHnHn//QwgzR76pAwBBX6vf//////r169evXr169evXr169evXr169evXr169evXr169evXj4ACAALgIMmkdSD3hckWhnkKc8AAQZCgAWARATHC8ZU8e+C7R/wAAAgyFwCKCCv1xlVX/fKALUAACACAw8g9nGCIEf/11wCBEa4UopnP++yr/8P/////8d8AAEA0ODQ/nmtzajImddqeTHKxAACAAHCePYSMkcGvdvUAAKggBBgImwuzAAcMMjHiQnlTTZUyQZhhw4AAgEAACAKAHXMOAAIBAAAgCgB1z//////169evXr169evXr169evXr169evXr169evXr169evXr16+vXr169evXr169evXr169evXr169evXr169evXr169evXr169evXr169evXr169evXr169evXr169evXr169evXr169evXr169evXr169evXr169evXr169evXr169evXr146AAgACP8AAIAIYK1vEgwhp33YIsACwDKCa4VnKvj/wWaP+ngACDIQEgEUFxwvOFfHvgs1f8HiAIMaaA0IEBtqAAAEGQgFYRBXtQYYh4v6ikACwCICY4XjKnj3wXaP+/QAAIAIDDyD2cYIgR//XXABAiBfqGlMv/PeDarw//////HQBCOACAalvSTYLve1jV6bgSDIgws2oK0sLLirVfgAYJr9NSBgJNrqG9/fgAOGGRjxITyppsqZIMw7EAAIAIcJ4KU5qUDVX7t/w//////69evXr169evXr169evXr169evXr169evXr169evXr179QemdevXr169evXr169evXr169evXr169evXr169evXr169evXr169evXr169evXr169evXr169evXr169evXr169evXr169evXr169evXr169evXr169evXr169evXr169evXrx0ABwMAoSRusuRCRkpOhYlDG4AFgGUE1wrOVfH/gs0f9gSARQXHC84V8e+CzV/weIAgxpoDQgQG2qeAAIMhQALAIgJjheMqePfBdo/4AAAQZCLAAEAsAAQRmKAABABAYeQezjBECP/66AUAgRAv1DSmX/nvBtV/////46AAgCEHOEj3YEg+bxED5qMcFsIM0e+m8YAgr9Xv8sAAQCQABBEY0IMOwc8m8ZAir9XvAAcMMiHngFqTvaggmrIAAEDcAAQBgVL4QZRHMSabcCvKzD/////9zEd+/fvx8ABCdxu9HPe56XOf/+AA6CKI9ijTEvFIqKh8MMgrmpMNHiPd2pCH/////7mJb9+/fj4ACG7D9yPe5zkue//gAODKCC/U1lVT3EVM+ARAUV+ucKBBhbdr+HD/////+5iW/fv34+AAhM438j3Pe5Lnv/wAHBFBRXq6wqr7qKmA+AZAQX+mcqBFhZdr8H//////uYlv378fAAQ2Yf/RznPelzn//wAHYRBXtUYYh4tFRTwgyiOYk00cI9XakH/////joDgACBGAAIAwBQTlv8gAAQNwABAGBUsOAAIG4AAgDAqWHhwABA3AAEAYFSw4AAgbgACAMCpf/////+/fv346AAgZjBlrA3SaaSQoszW/4HAAEDcAAQBgVLDgACBuAAIAwKl+HAAEDcAAQBgVL8AB2GQVzUmGocL8qp/////69evXr169+PgSBOAAICx7zwIA4VIHAJ/A53eAB4Bguv0DcKeFjJpTugtBiFmDnjJE0BHdrQAgRAv1FM4+e8KG78DwACoKYCzagSIlSqz4QAAQCgABBHYAVhEFe1BhiAADG/qKQFQRBHMHqKY80IkOkPgGUFF/o/hVX/BEho4QRBHMHqKY80IkOgYf/////joIAgAK5wEhMjY3MSMjcBYAwUIUCCvRAgVEK599jACIKEpPmsASUf//vP+hBCFmj8GSJt/dr///////69evXj4ACYI4CUUN0VKOnRwGeUKIAPAAhXNA0VYSMGjS7AsADEcwDBVhKwaNbsArCIK9qDDEAAGN/UU4QRRHsQaYkAAxr6iqAABQAAQBTQCggTkAHBEUcUaUFaTK1h9qsACBTcdiEPA/4o0/awAAQACFIAwArJAgQfDfyhhilGjsmCJt7drgEUEFfq/lVT/REhp8PgGUFF/o/hVX/BEho4YRRXNHqqZ82IkOoYf/////r+vXrx0ABDYcCPXt8RcOWFzFw5+ABYBgiRXqq5z8/4UNn6WAAIBYAAgjMfAAdBkEexJhqHivqqQ//////HQJA3YAAQW3+44AAQNyCwwCcX/38BoBAuPwDMK+FzJpRuDoYQpRg98wRNAQ3aAVBlEcxJpo4R6u1IAAHBgqceLUVxj3BAQVA9AABAABEOCTamX/kfPmnAKDBUY4WqpjP+ewrwwiiuaPVUz5sRIdaEEIWaPwZIm392g/oYYpRo7Jgibe3aD//////69evXjoACABA/gi1rrmQ0VnWx2PH3wAegw7EjlCJl416vCAACgBTAURAkqG1MgAAQCgABAHADrggAAqAQwFgTQqhtT/IAAEAsAAQBwA+X//////HfIAA8AgNm44D3Qu+pxBYTjQwwzUjlSJh436vAgAAQASAFCVH8EAoRKv88QAAIBYAAgDgB9ygEVQAoKewkRVf3aEAAFACApUiQNoOr+AZQUX+mMKqf55QBcMB4ABQAhoKeImxtT4QRBHMHqKY80IkOnh8MMor2pNNS8X9VUMP/////69evXj4ACGzg/d4JWXWA4oFpeL/gAeAYLr9A3CnhYyaU7tACBEC/UUzj57wobvwLQYhZg54yRNAR3aEAAEAoAAQR2PAVBEEcweopjzQiQ6cAygov9H8Kq/4IkNAYf/////joA7STYAAgDb8AAQRQwAiCs1gaAZFAKCRT/QitQNFW8BIBkKBhWHn8kEiAaK3qGEGageoBJR+q9XtAAIhAwSk8+/kJd0Fb/9//CCII5g9RTHmhEh0oQQhZo/Bkibf3aD///////69evXj4ACQAjgACCItQammAJVVrD/IGcAD0AAIAIgSmpnBAyElRVfpYAAgFgACCMx8gABUFMBZtQJESpVZ9AVhEFe1BhiAADG/qKQAHQRBHMHqKY80IkOkMgAAQCwABAHAD5fCCII5g9RTHmhEh0w//////HQQBAAVzgJCZGxuYkZG4CwBgoQoEFeiBAqIVz77GAEQUJSfNYAko///ef9CCELNH4MkTb+7X///////169evXr179+vXr169evXr179evXr379evXr169evXr179evXr169evXr169evXr169evXr169evXr169evXr169evXr169evXr169evXr169evXr169evXr169evXr169evXr169fAAAALvbW9vdgAAAGxtdmhkAAAAAAAAAAAAAAAAAAAD6AAAACgAAQAAAQAAAAAAAAAAAAAAAAEAAAAAAAAAAAAAAAAAAAABAAAAAAAAAAAAAAAAAABAAAAAAAAAAAAAAAAAAAAAAAAAAAAAAAAAAAAAAAAAAgAAAhl0cmFrAAAAXHRraGQAAAADAAAAAAAAAAAAAAABAAAAAAAAACgAAAAAAAAAAAAAAAAAAAAAAAEAAAAAAAAAAAAAAAAAAAABAAAAAAAAAAAAAAAAAABAAAAAAlcAAAHCAAAAAAAkZWR0cwAAABxlbHN0AAAAAAAAAAEAAAAoAAAAAAABAAAAAAGRbWRpYQAAACBtZGhkAAAAAAAAAAAAAAAAAAAyAAAAAgBVxAAAAAAALWhkbHIAAAAAAAAAAHZpZGUAAAAAAAAAAAAAAABWaWRlb0hhbmRsZXIAAAABPG1pbmYAAAAUdm1oZAAAAAEAAAAAAAAAAAAAACRkaW5mAAAAHGRyZWYAAAAAAAAAAQAAAAx1cmwgAAAAAQAAAPxzdGJsAAAAmHN0c2QAAAAAAAAAAQAAAIhhdmMxAAAAAAAAAAEAAAAAAAAAAAAAAAAAAAAAAlcBwgBIAAAASAAAAAAAAAABAAAAAAAAAAAAAAAAAAAAAAAAAAAAAAAAAAAAAAAAAAAAGP//AAAAMmF2Y0MB9AAe/+EAGmf0AB6RloCYO+Kj4QAAAwABAAADADIPFi6gAQAFaM4PGSAAAAAYc3R0cwAAAAAAAAABAAAAAQAAAgAAAAAcc3RzYwAAAAAAAAABAAAAAQAAAAEAAAABAAAAFHN0c3oAAAAAAAARXQAAAAEAAAAUc3RjbwAAAAAAAAABAAAAMAAAAGJ1ZHRhAAAAWm1ldGEAAAAAAAAAIWhkbHIAAAAAAAAAAG1kaXJhcHBsAAAAAAAAAAAAAAAALWlsc3QAAAAlqXRvbwAAAB1kYXRhAAAAAQAAAABMYXZmNTguMjkuMTAw' controls>Sorry, seems like your browser doesn't support HTML5 audio/video</video></div>"
      ],
      "text/plain": [
       "<moviepy.video.io.html_tools.HTML2 object>"
      ]
     },
     "execution_count": 6,
     "metadata": {},
     "output_type": "execute_result"
    },
    {
     "data": {
      "image/png": "[encoded data removed]",
      "text/plain": [
       "<Figure size 599.998x450 with 1 Axes>"
      ]
     },
     "metadata": {
      "needs_background": "light"
     },
     "output_type": "display_data"
    },
    {
     "data": {
      "image/png": "[encoded data removed]",
      "text/plain": [
       "<Figure size 432x288 with 1 Axes>"
      ]
     },
     "metadata": {
      "needs_background": "light"
     },
     "output_type": "display_data"
    }
   ],
   "source": [
    "fig = plt.figure(figsize=(8.3333, 6.25), dpi=72)\n",
    "ax = fig.add_subplot(111)\n",
    "\n",
    "images = []\n",
    "di = 1\n",
    "N = 1\n",
    "for i in range(0, N, di):\n",
    "    print(\"{}/{}\".format(i // di, N // di), end='\\n' if i//di%20==0 else ' ')\n",
    "    pendulum.make_plot(i, cart_coords, L1, L2)\n",
    "    images.append( pendulum.fig2image(fig) )\n",
    "\n",
    "ImageSequenceClip(images, fps=25.).ipython_display()"
   ]
  },
  {
   "cell_type": "markdown",
   "metadata": {
    "cellId": "fpid89jjaxfhg9kwyr2vcg"
   },
   "source": [
    "# Prepare a noisy observed trajectory"
   ]
  },
  {
   "cell_type": "code",
   "execution_count": 7,
   "metadata": {
    "cellId": "ghccliwi02ci475j6lvg"
   },
   "outputs": [],
   "source": [
    "t = np.linspace(0, 10, num=5, dtype=np.float32)\n",
    "def sample_trajectories_by_gs(key, gs, noise_std=0.5):\n",
    "    # odeint is bugged with vmap, probably becouse of the control flow to maintain tolerance\n",
    "    true_trajectories = jnp.array([pendulum.solve_analytical(x0, t, g=g) for g in gs])\n",
    "    return true_trajectories + jax.random.normal(key, true_trajectories.shape, true_trajectories.dtype)*noise_std"
   ]
  },
  {
   "cell_type": "code",
   "execution_count": 8,
   "metadata": {
    "cellId": "5kiffv768cqb847it11ocf"
   },
   "outputs": [],
   "source": [
    "rng = jax.random.PRNGKey(41231)\n",
    "rng, subkey = jax.random.split(rng)\n",
    "observed_trajectory = sample_trajectories_by_gs(subkey, [9.8])"
   ]
  },
  {
   "cell_type": "code",
   "execution_count": 9,
   "metadata": {},
   "outputs": [],
   "source": [
    "observed_trajectory = np.array(observed_trajectory)"
   ]
  },
  {
   "cell_type": "code",
   "execution_count": 10,
   "metadata": {},
   "outputs": [
    {
     "data": {
      "text/plain": [
       "(1, 5, 4)"
      ]
     },
     "execution_count": 10,
     "metadata": {},
     "output_type": "execute_result"
    }
   ],
   "source": [
    "observed_trajectory.shape"
   ]
  },
  {
   "cell_type": "markdown",
   "metadata": {
    "cellId": "4ujzvqv4upq5aj5ju594qg"
   },
   "source": [
    "# What if we didn't know the likelihood?\n",
    "\n",
    "# L-GSO\n",
    "\n",
    "https://arxiv.org/abs/2002.04632"
   ]
  },
  {
   "cell_type": "code",
   "execution_count": 11,
   "metadata": {
    "cellId": "q3cf5vrwm098t5cgg3ovob"
   },
   "outputs": [],
   "source": [
    "import torch"
   ]
  },
  {
   "cell_type": "code",
   "execution_count": 12,
   "metadata": {
    "cellId": "0bthltoi260jf36zj9t3ai"
   },
   "outputs": [],
   "source": [
    "class Simulator:\n",
    "    def __init__(self, rng_key):\n",
    "        self.rng_key = rng_key\n",
    "    \n",
    "    def simulate(self, gs):\n",
    "        self.rng_key, subkey = jax.random.split(self.rng_key)\n",
    "        trajectory = sample_trajectories_by_gs(subkey, jax.numpy.array(gs.ravel(), dtype=jax.numpy.float32))\n",
    "        return torch.tensor(np.array(trajectory).reshape((gs.shape[0], -1)))"
   ]
  },
  {
   "cell_type": "code",
   "execution_count": 13,
   "metadata": {
    "cellId": "3q083vfcp2k1dzr7l22pl8"
   },
   "outputs": [],
   "source": [
    "rng, subkey = jax.random.split(rng)\n",
    "simulator = Simulator(subkey)"
   ]
  },
  {
   "cell_type": "code",
   "execution_count": 14,
   "metadata": {},
   "outputs": [],
   "source": [
    "from gan_model import GANModel\n",
    "from experience_replay import ExperienceReplay\n",
    "from optimizer import TorchOptimizer"
   ]
  },
  {
   "cell_type": "code",
   "execution_count": 15,
   "metadata": {},
   "outputs": [],
   "source": [
    "class DoublePendulumLossModel:\n",
    "    \"\"\"\n",
    "    Just a class that implements loss function between GAN surrogate output and real output\n",
    "    \"\"\"\n",
    "    def __init__(self, ground_truth_data):\n",
    "        self.ground_truth_data = ground_truth_data.view(1, -1)\n",
    "        \n",
    "    def loss(self, y, conditions):\n",
    "        return ((self.ground_truth_data - y)**2).mean()\n",
    "    \n",
    "y_model = DoublePendulumLossModel(torch.tensor(observed_trajectory).float())"
   ]
  },
  {
   "cell_type": "code",
   "execution_count": 16,
   "metadata": {},
   "outputs": [
    {
     "data": {
      "text/plain": [
       "tensor([[ 0.9438,  1.9554, -0.5243,  0.1454, -1.8628, -1.4289,  0.7781,  1.7277,\n",
       "          1.0496,  4.2183, -1.6455,  4.2909,  0.2393, 14.4571,  1.1370, -1.4946,\n",
       "         -1.3830,  9.8013,  0.7803, -0.7391]])"
      ]
     },
     "execution_count": 16,
     "metadata": {},
     "output_type": "execute_result"
    }
   ],
   "source": [
    "simulator.simulate(np.array([5.]))"
   ]
  },
  {
   "cell_type": "code",
   "execution_count": 17,
   "metadata": {},
   "outputs": [
    {
     "data": {
      "text/plain": [
       "tensor(19.8121)"
      ]
     },
     "execution_count": 17,
     "metadata": {},
     "output_type": "execute_result"
    }
   ],
   "source": [
    "(simulator.simulate(np.array([5.])) - observed_trajectory.reshape(-1)).pow(2).mean()"
   ]
  },
  {
   "cell_type": "code",
   "execution_count": 18,
   "metadata": {},
   "outputs": [
    {
     "data": {
      "text/plain": [
       "tensor(15.8944)"
      ]
     },
     "execution_count": 18,
     "metadata": {},
     "output_type": "execute_result"
    }
   ],
   "source": [
    "(simulator.simulate(np.array([3.])) - observed_trajectory.reshape(-1)).pow(2).mean()"
   ]
  },
  {
   "cell_type": "code",
   "execution_count": 19,
   "metadata": {},
   "outputs": [
    {
     "data": {
      "text/plain": [
       "tensor(0.3326)"
      ]
     },
     "execution_count": 19,
     "metadata": {},
     "output_type": "execute_result"
    }
   ],
   "source": [
    "(simulator.simulate(np.array([9.8])) - observed_trajectory.reshape(-1)).pow(2).mean()"
   ]
  },
  {
   "cell_type": "code",
   "execution_count": 20,
   "metadata": {},
   "outputs": [
    {
     "data": {
      "text/plain": [
       "tensor(30.7193)"
      ]
     },
     "execution_count": 20,
     "metadata": {},
     "output_type": "execute_result"
    }
   ],
   "source": [
    "(simulator.simulate(np.array([20.8])) - observed_trajectory.reshape(-1)).pow(2).mean()"
   ]
  },
  {
   "cell_type": "code",
   "execution_count": 21,
   "metadata": {},
   "outputs": [],
   "source": [
    "device = \"cpu\"\n",
    "\n",
    "model_config = {\n",
    "    'task': \"CRAMER\", #\"REVERSED_KL\", #\"CRAMER\", #\"CRAMER\", #\"REVERSED_KL\",  # 'WASSERSTEIN', # WASSERSTEIN, REVERSED_KL\n",
    "    'y_dim': 20,\n",
    "    'x_dim': 0,\n",
    "    'psi_dim': 1,\n",
    "    'noise_dim': 150,\n",
    "    'lr': 1e-4 * 8,\n",
    "    'batch_size': 512,\n",
    "    'epochs': 15,\n",
    "    'iters_discriminator': 1,\n",
    "    'iters_generator': 1,\n",
    "    'instance_noise_std': 0.01,\n",
    "    'burn_in_period': None,\n",
    "    'averaging_coeff': 0.,\n",
    "    'dis_output_dim': 256,\n",
    "    'grad_penalty': True,\n",
    "    'attention_net_size': None,\n",
    "    'gp_reg_coeff': 10,\n",
    "    'device': device\n",
    "    # 'predict_risk': False\n",
    "}"
   ]
  },
  {
   "cell_type": "code",
   "execution_count": 22,
   "metadata": {},
   "outputs": [],
   "source": [
    "exp_replay = ExperienceReplay(\n",
    "    psi_dim=model_config['psi_dim'],\n",
    "    y_dim=model_config['y_dim'],\n",
    "    x_dim=model_config['x_dim'],\n",
    "    device=device\n",
    ")"
   ]
  },
  {
   "cell_type": "code",
   "execution_count": 23,
   "metadata": {},
   "outputs": [],
   "source": [
    "def generate_local_data(simulator, current_psi, step=0.1, n_samples=5):\n",
    "    \"\"\"\n",
    "    Sampler of new points around current parameters\n",
    "    \"\"\"\n",
    "    psis = np.random.uniform(low=-1., high=1., size=(n_samples, current_psi.shape[0]))\n",
    "    psis = current_psi[np.newaxis] + step * psis\n",
    "    data = simulator.simulate(psis.reshape(-1))\n",
    "    return data, psis.float()"
   ]
  },
  {
   "cell_type": "code",
   "execution_count": 24,
   "metadata": {},
   "outputs": [],
   "source": [
    "# area for training surrogate\n",
    "step_data_gen = 1.\n",
    "\n",
    "# points to sample at each epoch\n",
    "n_samples = 10\n",
    "\n",
    "# initial psi\n",
    "current_psi=torch.tensor([14.])"
   ]
  },
  {
   "cell_type": "code",
   "execution_count": 25,
   "metadata": {},
   "outputs": [],
   "source": [
    "# optimizer that we are going to re-use\n",
    "optimizer_config = {\n",
    "    'lr': 0.1,\n",
    "    'num_repetitions': 10000,\n",
    "    'max_iters': 1,\n",
    "    'torch_model': 'Adam',\n",
    "}"
   ]
  },
  {
   "cell_type": "code",
   "execution_count": 26,
   "metadata": {},
   "outputs": [],
   "source": [
    "# sample new data\n",
    "output, condition = generate_local_data(simulator, current_psi, step=step_data_gen, n_samples=n_samples)"
   ]
  },
  {
   "cell_type": "code",
   "execution_count": 27,
   "metadata": {},
   "outputs": [],
   "source": [
    "# look up in experience replay\n",
    "output_exp_replay, condition_exp_replay = exp_replay.extract(psi=current_psi, step=step_data_gen)\n",
    "exp_replay.add(y=output, condition=condition)\n",
    "output = torch.cat([output, output_exp_replay], dim=0)\n",
    "condition = torch.cat([condition, condition_exp_replay], dim=0)"
   ]
  },
  {
   "cell_type": "code",
   "execution_count": 28,
   "metadata": {},
   "outputs": [
    {
     "data": {
      "text/plain": [
       "GANModel(\n",
       "  (_generator): Generator(\n",
       "    (fc1): Linear(in_features=151, out_features=100, bias=True)\n",
       "    (fc2): Linear(in_features=100, out_features=100, bias=True)\n",
       "    (fc3): Linear(in_features=100, out_features=20, bias=True)\n",
       "    (fc4): Linear(in_features=100, out_features=100, bias=True)\n",
       "  )\n",
       "  (_discriminator): Discriminator(\n",
       "    (fc1): Linear(in_features=21, out_features=100, bias=True)\n",
       "    (fc2): Linear(in_features=100, out_features=100, bias=True)\n",
       "    (fc3): Linear(in_features=100, out_features=100, bias=True)\n",
       "    (fc4): Linear(in_features=100, out_features=256, bias=True)\n",
       "  )\n",
       ")"
      ]
     },
     "execution_count": 28,
     "metadata": {},
     "output_type": "execute_result"
    }
   ],
   "source": [
    "# if not reusing model\n",
    "# then at each epoch re-initialize and re-fit GAN\n",
    "model = GANModel(**model_config, y_model=y_model).to(device)\n",
    "model.fit(output, condition=condition)\n",
    "model.eval()"
   ]
  },
  {
   "cell_type": "code",
   "execution_count": 29,
   "metadata": {},
   "outputs": [
    {
     "name": "stdout",
     "output_type": "stream",
     "text": [
      "Adam (\n",
      "Parameter Group 0\n",
      "    amsgrad: False\n",
      "    betas: (0.9, 0.999)\n",
      "    eps: 1e-08\n",
      "    lr: 0.1\n",
      "    weight_decay: 0\n",
      ")\n"
     ]
    }
   ],
   "source": [
    "previous_psi = current_psi.clone()\n",
    "optimizer = TorchOptimizer(oracle=model, x=current_psi, **optimizer_config)\n",
    "\n",
    "optimizer.update(oracle=model, x=current_psi)\n",
    "current_psi, status, history = optimizer.optimize()"
   ]
  },
  {
   "cell_type": "code",
   "execution_count": 30,
   "metadata": {},
   "outputs": [
    {
     "data": {
      "text/plain": [
       "(tensor([14.]), tensor([14.1000]))"
      ]
     },
     "execution_count": 30,
     "metadata": {},
     "output_type": "execute_result"
    }
   ],
   "source": [
    "previous_psi, current_psi"
   ]
  },
  {
   "cell_type": "markdown",
   "metadata": {},
   "source": [
    "## Stack everything together"
   ]
  },
  {
   "cell_type": "code",
   "execution_count": 31,
   "metadata": {},
   "outputs": [
    {
     "data": {
      "application/vnd.jupyter.widget-view+json": {
       "model_id": "e021e286e4dd4420ac8a39b7c4e09d7e",
       "version_major": 2,
       "version_minor": 0
      },
      "text/plain": [
       "  0%|          | 0/200 [00:00<?, ?it/s]"
      ]
     },
     "metadata": {},
     "output_type": "display_data"
    },
    {
     "name": "stdout",
     "output_type": "stream",
     "text": [
      "Current optima: 14.20009708404541, Current MSE: 16.629741668701172, Dataset size: 20\n",
      "\n",
      "Current optima: 13.93106460571289, Current MSE: 16.8713436126709, Dataset size: 111\n",
      "\n",
      "Current optima: 13.213568687438965, Current MSE: 15.240385055541992, Dataset size: 160\n",
      "\n",
      "Current optima: 12.339691162109375, Current MSE: 11.717662811279297, Dataset size: 132\n",
      "\n",
      "Current optima: 11.600752830505371, Current MSE: 9.6381196975708, Dataset size: 127\n",
      "\n",
      "Current optima: 11.020171165466309, Current MSE: 8.338957786560059, Dataset size: 153\n",
      "\n",
      "Current optima: 10.278650283813477, Current MSE: 6.138432025909424, Dataset size: 155\n",
      "\n",
      "Current optima: 9.288348197937012, Current MSE: 0.7008216977119446, Dataset size: 116\n",
      "\n",
      "Current optima: 9.143068313598633, Current MSE: 1.9731818437576294, Dataset size: 181\n",
      "\n",
      "Current optima: 9.855711936950684, Current MSE: 1.267384648323059, Dataset size: 320\n",
      "\n",
      "Current optima: 9.718302726745605, Current MSE: 1.1556415557861328, Dataset size: 412\n",
      "\n",
      "Current optima: 9.581842422485352, Current MSE: 1.05853271484375, Dataset size: 495\n",
      "\n",
      "Current optima: 9.669354438781738, Current MSE: 1.828627347946167, Dataset size: 601\n",
      "\n",
      "Current optima: 9.668455123901367, Current MSE: 2.1622462272644043, Dataset size: 694\n",
      "\n",
      "Current optima: 9.725570678710938, Current MSE: 2.1645634174346924, Dataset size: 783\n",
      "\n",
      "Current optima: 9.803459167480469, Current MSE: 2.2982287406921387, Dataset size: 875\n",
      "\n",
      "Current optima: 9.552352905273438, Current MSE: 2.1379661560058594, Dataset size: 951\n",
      "\n",
      "Current optima: 9.754050254821777, Current MSE: 4.58736515045166, Dataset size: 1053\n",
      "\n",
      "Current optima: 9.702874183654785, Current MSE: 2.982098340988159, Dataset size: 1165\n",
      "\n",
      "Current optima: 9.582079887390137, Current MSE: 3.0326075553894043, Dataset size: 1236\n",
      "\n"
     ]
    }
   ],
   "source": [
    "from tqdm.notebook import tqdm\n",
    "\n",
    "for epochs in tqdm(range(200)):    \n",
    "    # sample new data\n",
    "    output, condition = generate_local_data(simulator, current_psi, step=step_data_gen, n_samples=n_samples)\n",
    "\n",
    "    # look up in experience replay\n",
    "    output_exp_replay, condition_exp_replay = exp_replay.extract(psi=current_psi, step=step_data_gen)\n",
    "    exp_replay.add(y=output, condition=condition)\n",
    "    output = torch.cat([output, output_exp_replay], dim=0)\n",
    "    condition = torch.cat([condition, condition_exp_replay], dim=0)\n",
    "\n",
    "    # if not reusing model\n",
    "    # then at each epoch re-initialize and re-fit GAN\n",
    "    model = GANModel(**model_config, y_model=y_model).to(device)\n",
    "    model.fit(output, condition=condition)\n",
    "    model.eval()\n",
    "\n",
    "    # optimize psi with surrogate\n",
    "    previous_psi = current_psi.clone()\n",
    "    optimizer.update(oracle=model, x=current_psi)\n",
    "    current_psi, status, history = optimizer.optimize()\n",
    "    if epochs % 10 == 0:\n",
    "        print(\n",
    "            f\"Current optima: {current_psi.item()}, Current MSE: {history['func'][0]}, Dataset size: {condition.shape[0]}\"\n",
    "        )\n",
    "        print()"
   ]
  },
  {
   "cell_type": "code",
   "execution_count": null,
   "metadata": {},
   "outputs": [],
   "source": []
  },
  {
   "cell_type": "code",
   "execution_count": null,
   "metadata": {},
   "outputs": [],
   "source": []
  }
 ],
 "metadata": {
  "kernelspec": {
   "display_name": "Python 3",
   "language": "python",
   "name": "python3"
  },
  "language_info": {
   "codemirror_mode": {
    "name": "ipython",
    "version": 3
   },
   "file_extension": ".py",
   "mimetype": "text/x-python",
   "name": "python",
   "nbconvert_exporter": "python",
   "pygments_lexer": "ipython3",
   "version": "3.8.3"
  }
 },
 "nbformat": 4,
 "nbformat_minor": 4
}
